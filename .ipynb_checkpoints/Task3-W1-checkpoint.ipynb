{
 "cells": [
  {
   "cell_type": "code",
   "execution_count": 14,
   "id": "68c485fd-cc76-49b4-8045-6ac063200f9e",
   "metadata": {},
   "outputs": [
    {
     "name": "stdout",
     "output_type": "stream",
     "text": [
      "Initial123\n",
      "ASD123\n"
     ]
    }
   ],
   "source": [
    "class Password:\n",
    "    def __init__(self, password):\n",
    "        self.__password = password \n",
    "\n",
    "    def set_password(self, password):\n",
    "        self.__password = password\n",
    "\n",
    "    def get_password(self):\n",
    "        return self.__password\n",
    "\n",
    "player1 = Password('Initial123')\n",
    "print(player1.get_password())  \n",
    "player1.set_password('ASD123')\n",
    "print(player1.get_password())  "
   ]
  },
  {
   "cell_type": "code",
   "execution_count": 16,
   "id": "994a53bd-9d71-41a5-b5f7-ba93d06d533a",
   "metadata": {},
   "outputs": [
    {
     "name": "stdout",
     "output_type": "stream",
     "text": [
      "Some sound\n",
      "Woof!\n"
     ]
    }
   ],
   "source": [
    "class Animal:\n",
    "    def speak(self):\n",
    "        print(\"Some sound\")\n",
    "\n",
    "class Dog(Animal):\n",
    "    def speak(self):\n",
    "        print(\"Woof!\") \n",
    "\n",
    "animal = Animal()\n",
    "dog = Dog()\n",
    "\n",
    "\n",
    "animal.speak() \n",
    "dog.speak()     "
   ]
  },
  {
   "cell_type": "code",
   "execution_count": null,
   "id": "fc486e10-4564-4f1e-a12c-79cb39c4e965",
   "metadata": {},
   "outputs": [],
   "source": []
  }
 ],
 "metadata": {
  "kernelspec": {
   "display_name": "Python 3 (ipykernel)",
   "language": "python",
   "name": "python3"
  },
  "language_info": {
   "codemirror_mode": {
    "name": "ipython",
    "version": 3
   },
   "file_extension": ".py",
   "mimetype": "text/x-python",
   "name": "python",
   "nbconvert_exporter": "python",
   "pygments_lexer": "ipython3",
   "version": "3.13.1"
  }
 },
 "nbformat": 4,
 "nbformat_minor": 5
}

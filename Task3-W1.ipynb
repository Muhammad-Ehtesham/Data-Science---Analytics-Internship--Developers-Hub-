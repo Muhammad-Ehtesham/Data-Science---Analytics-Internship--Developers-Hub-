{
 "cells": [
  {
   "cell_type": "code",
   "execution_count": 14,
   "id": "68c485fd-cc76-49b4-8045-6ac063200f9e",
   "metadata": {},
   "outputs": [
    {
     "name": "stdout",
     "output_type": "stream",
     "text": [
      "Initial123\n",
      "ASD123\n"
     ]
    }
   ],
   "source": [
    "class Password:\n",
    "    def __init__(self, password):\n",
    "        self.__password = password \n",
    "\n",
    "    def set_password(self, password):\n",
    "        self.__password = password\n",
    "\n",
    "    def get_password(self):\n",
    "        return self.__password\n",
    "\n",
    "player1 = Password('Initial123')\n",
    "print(player1.get_password())  \n",
    "player1.set_password('ASD123')\n",
    "print(player1.get_password())  "
   ]
  },
  {
   "cell_type": "code",
   "execution_count": 16,
   "id": "994a53bd-9d71-41a5-b5f7-ba93d06d533a",
   "metadata": {},
   "outputs": [
    {
     "name": "stdout",
     "output_type": "stream",
     "text": [
      "Some sound\n",
      "Woof!\n"
     ]
    }
   ],
   "source": [
    "class Animal:\n",
    "    def speak(self):\n",
    "        print(\"Some sound\")\n",
    "\n",
    "class Dog(Animal):\n",
    "    def speak(self):\n",
    "        print(\"Woof!\") \n",
    "\n",
    "animal = Animal()\n",
    "dog = Dog()\n",
    "\n",
    "\n",
    "animal.speak() \n",
    "dog.speak()     "
   ]
  },
  {
   "cell_type": "code",
   "execution_count": 17,
   "id": "fc486e10-4564-4f1e-a12c-79cb39c4e965",
   "metadata": {},
   "outputs": [],
   "source": [
    "# Parent Class\n",
    "class BankAccount:\n",
    "    def __init__(self, owner, balance=0):\n",
    "        self.owner = owner\n",
    "        self.balance = balance\n",
    "\n",
    "    def deposit(self, amount):\n",
    "        self.balance += amount\n",
    "        print(f\"{self.owner} deposited {amount}. New balance is {self.balance}\")\n",
    "\n",
    "    def withdraw(self, amount):\n",
    "        if amount > self.balance:\n",
    "            print(\"Insufficient funds!\")\n",
    "        else:\n",
    "            self.balance -= amount\n",
    "            print(f\"{self.owner} withdrew {amount}. New balance is {self.balance}\")\n",
    "\n",
    "    def display_balance(self):\n",
    "        print(f\"{self.owner}'s current balance: {self.balance}\")\n",
    "\n",
    "# Child Class\n",
    "class SavingsAccount(BankAccount):\n",
    "    def __init__(self, owner, balance=0, interest_rate=0.02):\n",
    "        super().__init__(owner, balance) \n",
    "        self.interest_rate = interest_rate\n",
    "\n",
    "    def add_interest(self):\n",
    "        interest = self.balance * self.interest_rate\n",
    "        self.balance += interest\n",
    "        print(f\"Interest of {interest} added. New balance: {self.balance}\")\n",
    "\n",
    "account = SavingsAccount(\"Ehtesham\", 1000)\n",
    "\n"
   ]
  },
  {
   "cell_type": "code",
   "execution_count": 18,
   "id": "efae1840-020a-4282-b933-8d8e07cef125",
   "metadata": {},
   "outputs": [
    {
     "name": "stdout",
     "output_type": "stream",
     "text": [
      "Ehtesham's current balance: 1000\n"
     ]
    }
   ],
   "source": [
    "account.display_balance()      # From parent class"
   ]
  },
  {
   "cell_type": "code",
   "execution_count": 19,
   "id": "ebc5171b-a705-4f28-97d1-1d6e352c2cec",
   "metadata": {},
   "outputs": [
    {
     "name": "stdout",
     "output_type": "stream",
     "text": [
      "Ehtesham deposited 500. New balance is 1500\n"
     ]
    }
   ],
   "source": [
    "account.deposit(500)           # From parent class"
   ]
  },
  {
   "cell_type": "code",
   "execution_count": 20,
   "id": "ed4b2938-ea2e-41bb-bf8a-594d08d669be",
   "metadata": {},
   "outputs": [
    {
     "name": "stdout",
     "output_type": "stream",
     "text": [
      "Ehtesham withdrew 200. New balance is 1300\n"
     ]
    }
   ],
   "source": [
    "account.withdraw(200)          # From parent class"
   ]
  },
  {
   "cell_type": "code",
   "execution_count": 21,
   "id": "1b35de18-9c02-4b77-a5bf-3cf35fa86572",
   "metadata": {},
   "outputs": [
    {
     "name": "stdout",
     "output_type": "stream",
     "text": [
      "Interest of 26.0 added. New balance: 1326.0\n"
     ]
    }
   ],
   "source": [
    "account.add_interest()         # From child class (specific to SavingsAccount)"
   ]
  },
  {
   "cell_type": "code",
   "execution_count": null,
   "id": "46920f14-d38f-450a-8996-3f2eed8a7e09",
   "metadata": {},
   "outputs": [],
   "source": []
  }
 ],
 "metadata": {
  "kernelspec": {
   "display_name": "Python 3 (ipykernel)",
   "language": "python",
   "name": "python3"
  },
  "language_info": {
   "codemirror_mode": {
    "name": "ipython",
    "version": 3
   },
   "file_extension": ".py",
   "mimetype": "text/x-python",
   "name": "python",
   "nbconvert_exporter": "python",
   "pygments_lexer": "ipython3",
   "version": "3.13.1"
  }
 },
 "nbformat": 4,
 "nbformat_minor": 5
}
